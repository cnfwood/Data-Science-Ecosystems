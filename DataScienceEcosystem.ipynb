{
 "cells": [
  {
   "cell_type": "markdown",
   "id": "37d6b21f-2747-42d8-a165-39c48a120907",
   "metadata": {
    "tags": []
   },
   "source": [
    "# Data Science Tools and Ecosystem"
   ]
  },
  {
   "cell_type": "markdown",
   "id": "342bb164-0dda-44be-b0a8-e08ede11da33",
   "metadata": {},
   "source": [
    "## Author\n",
    "Chris Wood"
   ]
  },
  {
   "cell_type": "markdown",
   "id": "9af54c1f-391d-4d67-b5bf-a29a5d1464a4",
   "metadata": {},
   "source": [
    "In this notebook, Data Science Tools and Ecosystem are summarized."
   ]
  },
  {
   "cell_type": "markdown",
   "id": "4a46a0ad-3945-412f-a7d0-24d6b277e027",
   "metadata": {},
   "source": [
    "__Objectives:__\n",
    "- List popular languages for data science\n",
    "- List popular libraries for data science\n",
    "- List popular open source tools for data science\n",
    "- List basic arithmetic tools for data science"
   ]
  },
  {
   "cell_type": "markdown",
   "id": "dbb4e61b-416a-482e-b707-9a21c14d6745",
   "metadata": {},
   "source": [
    "Some of the popular languages that data scienctists use are:\n",
    "1. Python\n",
    "2. R\n",
    "3. SQL\n",
    "4. Julia\n",
    "5. Scala"
   ]
  },
  {
   "cell_type": "markdown",
   "id": "6edec2e6-a123-4323-ba63-ddc87ad2778c",
   "metadata": {
    "tags": []
   },
   "source": [
    "Some of the commonly used libraries used by data scientists are:\n",
    "1. NumPy\n",
    "2. Pandas\n",
    "3. Matplotlib\n",
    "4. Scikit-Learn\n",
    "5. TensorFlow"
   ]
  },
  {
   "cell_type": "markdown",
   "id": "a9e131da-39da-4611-abfc-c3a488c66a54",
   "metadata": {},
   "source": [
    "| Data Science Tools |\n",
    "|:-----------------:|\n",
    "| Jupyter Notebooks |\n",
    "| R Studio |\n",
    "| Hadoop |"
   ]
  },
  {
   "cell_type": "markdown",
   "id": "45690736-ca87-4046-96d7-16f52e32506d",
   "metadata": {},
   "source": [
    "### Below are a few examples of evaluating arithmetic expressions in Python"
   ]
  },
  {
   "cell_type": "markdown",
   "id": "574cf2bb-e301-4b7d-a515-33d122bf489a",
   "metadata": {},
   "source": [
    "This is a simple arithmetic expression to multiply then add integers:"
   ]
  },
  {
   "cell_type": "code",
   "execution_count": 9,
   "id": "3729d389-6fd1-47db-9dc5-ad0faac2926e",
   "metadata": {
    "tags": []
   },
   "outputs": [
    {
     "data": {
      "text/plain": [
       "17"
      ]
     },
     "execution_count": 9,
     "metadata": {},
     "output_type": "execute_result"
    }
   ],
   "source": [
    "(3*4)+5"
   ]
  },
  {
   "cell_type": "markdown",
   "id": "0b863def-5c6d-4730-9818-ba3f32788a51",
   "metadata": {},
   "source": [
    "This will convert 200 minutes into hours by dividing by 60:"
   ]
  },
  {
   "cell_type": "code",
   "execution_count": 18,
   "id": "d90a921e-ace0-41a4-bd9c-795f6d6a4393",
   "metadata": {
    "tags": []
   },
   "outputs": [
    {
     "name": "stdout",
     "output_type": "stream",
     "text": [
      "3.3333333333333335\n"
     ]
    }
   ],
   "source": [
    "minutes = 200\n",
    "hours = (minutes / 60)\n",
    "print (hours)"
   ]
  }
 ],
 "metadata": {
  "kernelspec": {
   "display_name": "Python 3 (ipykernel)",
   "language": "python",
   "name": "python3"
  },
  "language_info": {
   "codemirror_mode": {
    "name": "ipython",
    "version": 3
   },
   "file_extension": ".py",
   "mimetype": "text/x-python",
   "name": "python",
   "nbconvert_exporter": "python",
   "pygments_lexer": "ipython3",
   "version": "3.11.5"
  }
 },
 "nbformat": 4,
 "nbformat_minor": 5
}
